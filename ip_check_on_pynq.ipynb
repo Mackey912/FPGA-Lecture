{
 "cells": [
  {
   "cell_type": "code",
   "execution_count": 1,
   "id": "910d9586",
   "metadata": {},
   "outputs": [
    {
     "data": {
      "application/javascript": [
       "\n",
       "try {\n",
       "require(['notebook/js/codecell'], function(codecell) {\n",
       "  codecell.CodeCell.options_default.highlight_modes[\n",
       "      'magic_text/x-csrc'] = {'reg':[/^%%microblaze/]};\n",
       "  Jupyter.notebook.events.one('kernel_ready.Kernel', function(){\n",
       "      Jupyter.notebook.get_cells().map(function(cell){\n",
       "          if (cell.cell_type == 'code'){ cell.auto_highlight(); } }) ;\n",
       "  });\n",
       "});\n",
       "} catch (e) {};\n"
      ]
     },
     "metadata": {},
     "output_type": "display_data"
    },
    {
     "data": {
      "application/javascript": [
       "\n",
       "try {\n",
       "require(['notebook/js/codecell'], function(codecell) {\n",
       "  codecell.CodeCell.options_default.highlight_modes[\n",
       "      'magic_text/x-csrc'] = {'reg':[/^%%pybind11/]};\n",
       "  Jupyter.notebook.events.one('kernel_ready.Kernel', function(){\n",
       "      Jupyter.notebook.get_cells().map(function(cell){\n",
       "          if (cell.cell_type == 'code'){ cell.auto_highlight(); } }) ;\n",
       "  });\n",
       "});\n",
       "} catch (e) {};\n"
      ]
     },
     "metadata": {},
     "output_type": "display_data"
    }
   ],
   "source": [
    "from pynq import Overlay\n",
    "from pynq import allocate\n",
    "import numpy as np\n",
    "from time import perf_counter\n",
    "import time\n",
    "import matplotlib.pyplot as plt\n",
    "import pynq\n",
    "from pynq import get_rails, DataRecorder\n",
    "from datetime import datetime\n",
    "import argparse\n",
    "import threading"
   ]
  },
  {
   "cell_type": "code",
   "execution_count": 13,
   "id": "4f539370",
   "metadata": {},
   "outputs": [],
   "source": [
    "def matmul(\n",
    "    A_local,\n",
    "    B_local,\n",
    "    output_local,\n",
    "    PL):\n",
    "    \n",
    "    start=0x10\n",
    "    PL.write(start, A_local.device_address)\n",
    "    PL.write(start+12, B_local.device_address)\n",
    "    PL.write(start+12*2, output_local.device_address)\n",
    "    \n",
    "    ctrl = PL.read(0x00)\n",
    "    PL.write(0x00, (ctrl & 0x80) | 0x01)\n",
    "    while (PL.read(0x00) & 0x02) == 0:\n",
    "        pass\n",
    "    \n",
    "def matmul2(\n",
    "    A_local,\n",
    "    B_local,\n",
    "    output_local,\n",
    "    PL):\n",
    "    \n",
    "    start=0x10\n",
    "    PL.register_map.A_outer_1.A_outer = A_local.device_address\n",
    "    PL.register_map.B_outer_1.B_outer = B_local.device_address\n",
    "    PL.register_map.output_outer_1.output_outer = output_local.device_address\n",
    "    \n",
    "    ctrl = PL.read(0x00)\n",
    "    PL.write(0x00, (ctrl & 0x80) | 0x01)\n",
    "    while (PL.read(0x00) & 0x02) == 0:\n",
    "        pass"
   ]
  },
  {
   "cell_type": "code",
   "execution_count": 17,
   "id": "26d668aa",
   "metadata": {},
   "outputs": [],
   "source": [
    "overlay = Overlay('design_1.bit')\n",
    "#v2.7\n",
    "ip = overlay.matmul_0.s_axi_control"
   ]
  },
  {
   "cell_type": "code",
   "execution_count": 4,
   "id": "deaff868",
   "metadata": {
    "scrolled": true
   },
   "outputs": [
    {
     "data": {
      "text/plain": [
       "RegisterMap {\n",
       "  CTRL = Register(AP_START=0, AP_DONE=0, AP_IDLE=1, AP_READY=0, RESERVED_1=0, AUTO_RESTART=0, RESERVED_2=0),\n",
       "  GIER = Register(Enable=0, RESERVED=0),\n",
       "  IP_IER = Register(CHAN0_INT_EN=0, CHAN1_INT_EN=0, RESERVED=0),\n",
       "  IP_ISR = Register(CHAN0_INT_ST=0, CHAN1_INT_ST=0, RESERVED=0),\n",
       "  A_outer_1 = Register(A_outer=write-only),\n",
       "  A_outer_2 = Register(A_outer=write-only),\n",
       "  B_outer_1 = Register(B_outer=write-only),\n",
       "  B_outer_2 = Register(B_outer=write-only),\n",
       "  output_outer_1 = Register(output_outer=write-only),\n",
       "  output_outer_2 = Register(output_outer=write-only)\n",
       "}"
      ]
     },
     "execution_count": 4,
     "metadata": {},
     "output_type": "execute_result"
    }
   ],
   "source": [
    "ip.register_map"
   ]
  },
  {
   "cell_type": "code",
   "execution_count": 5,
   "id": "ed364dc4",
   "metadata": {},
   "outputs": [],
   "source": [
    "SIZE = 2\n",
    "A = allocate(shape=(SIZE, SIZE), dtype=np.float16)\n",
    "B = allocate(shape=(SIZE, SIZE), dtype=np.float16)\n",
    "output = allocate(shape=(SIZE, SIZE), dtype=np.float16)"
   ]
  },
  {
   "cell_type": "code",
   "execution_count": 11,
   "id": "d7e8f67c",
   "metadata": {},
   "outputs": [],
   "source": [
    "#検証用\n",
    "np.random.seed(seed=32)\n",
    "A_valid = np.random.rand(SIZE, SIZE).astype(np.float16)\n",
    "B_valid = np.random.rand(SIZE, SIZE).astype(np.float16)\n",
    "output_valid = np.multiply(A_valid, B_valid)"
   ]
  },
  {
   "cell_type": "code",
   "execution_count": 7,
   "id": "c4035d0c",
   "metadata": {},
   "outputs": [],
   "source": [
    "for i in range(SIZE):\n",
    "    for j in range(SIZE):\n",
    "        A[i][j] = A_valid[i][j]\n",
    "        B[i][j] = B_valid[i][j]"
   ]
  },
  {
   "cell_type": "code",
   "execution_count": 14,
   "id": "55d67535",
   "metadata": {},
   "outputs": [
    {
     "name": "stdout",
     "output_type": "stream",
     "text": [
      "time= 0.0007144400001379836\n"
     ]
    }
   ],
   "source": [
    "start_time = perf_counter()\n",
    "matmul2(A, B, output, ip)\n",
    "end_time = perf_counter()\n",
    "print('time=', end_time-start_time)"
   ]
  },
  {
   "cell_type": "code",
   "execution_count": 18,
   "id": "1afb3acb",
   "metadata": {
    "scrolled": true
   },
   "outputs": [
    {
     "data": {
      "text/plain": [
       "PynqBuffer([[0., 0.],\n",
       "            [0., 0.]], dtype=float16)"
      ]
     },
     "execution_count": 18,
     "metadata": {},
     "output_type": "execute_result"
    }
   ],
   "source": [
    "output"
   ]
  },
  {
   "cell_type": "code",
   "execution_count": 12,
   "id": "47218818",
   "metadata": {},
   "outputs": [
    {
     "data": {
      "text/plain": [
       "array([[0.633  , 0.3044 ],\n",
       "       [0.05612, 0.887  ]], dtype=float16)"
      ]
     },
     "execution_count": 12,
     "metadata": {},
     "output_type": "execute_result"
    }
   ],
   "source": [
    "output_valid"
   ]
  },
  {
   "cell_type": "code",
   "execution_count": null,
   "id": "744f7504",
   "metadata": {},
   "outputs": [],
   "source": []
  }
 ],
 "metadata": {
  "kernelspec": {
   "display_name": "Python 3",
   "language": "python",
   "name": "python3"
  },
  "language_info": {
   "codemirror_mode": {
    "name": "ipython",
    "version": 3
   },
   "file_extension": ".py",
   "mimetype": "text/x-python",
   "name": "python",
   "nbconvert_exporter": "python",
   "pygments_lexer": "ipython3",
   "version": "3.8.2"
  }
 },
 "nbformat": 4,
 "nbformat_minor": 5
}
